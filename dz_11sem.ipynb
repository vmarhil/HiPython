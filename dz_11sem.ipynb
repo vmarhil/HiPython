{
 "cells": [
  {
   "cell_type": "markdown",
   "id": "334a7e56",
   "metadata": {},
   "source": [
    "##  Домашнее задание:\n",
    "## f(x) = -8x^2+3x+17\n",
    "## 1. Определить корни\n"
   ]
  },
  {
   "cell_type": "code",
   "execution_count": 11,
   "id": "b215a4a4",
   "metadata": {},
   "outputs": [
    {
     "name": "stdout",
     "output_type": "stream",
     "text": [
      "-1.2822470020381058 1.6572470020381058\n"
     ]
    }
   ],
   "source": [
    "from sympy import *\n",
    "\n",
    "x = Symbol('x')\n",
    "func=-8*x**2+3*x+17\n",
    "y=solve(func)\n",
    "x1=float(y[0])\n",
    "x2=float(y[1])\n",
    "print(x1,x2)"
   ]
  },
  {
   "cell_type": "markdown",
   "id": "731b1bec",
   "metadata": {},
   "source": [
    "## 2. Найти интервалы, на которых функция возрастает"
   ]
  },
  {
   "cell_type": "code",
   "execution_count": 12,
   "id": "69733170",
   "metadata": {},
   "outputs": [
    {
     "name": "stdout",
     "output_type": "stream",
     "text": [
      "(-oo < x) & (x < 3/16)\n"
     ]
    }
   ],
   "source": [
    "fd=diff(func)\n",
    "print(solve(0<fd))"
   ]
  },
  {
   "cell_type": "markdown",
   "id": "b24a7485",
   "metadata": {},
   "source": [
    "## 3. Найти интервалы, на которых функция убывает"
   ]
  },
  {
   "cell_type": "code",
   "execution_count": 13,
   "id": "daac0fc4",
   "metadata": {},
   "outputs": [
    {
     "name": "stdout",
     "output_type": "stream",
     "text": [
      "(3/16 < x) & (x < oo)\n"
     ]
    }
   ],
   "source": [
    "print(solve(fd<0))"
   ]
  },
  {
   "cell_type": "markdown",
   "id": "a626bc0d",
   "metadata": {},
   "source": [
    "## 4. Построить график"
   ]
  },
  {
   "cell_type": "code",
   "execution_count": 14,
   "id": "9040db9b",
   "metadata": {},
   "outputs": [
    {
     "name": "stdout",
     "output_type": "stream",
     "text": [
      "[-198, -123, -64, -21, 6, 17, 12, -9, -46, -99, -168]\n"
     ]
    },
    {
     "data": {
      "text/plain": [
       "[<matplotlib.lines.Line2D at 0x1d641e4a160>]"
      ]
     },
     "execution_count": 14,
     "metadata": {},
     "output_type": "execute_result"
    },
    {
     "data": {
      "image/png": "[encoded data removed]",
      "text/plain": [
       "<Figure size 432x288 with 1 Axes>"
      ]
     },
     "metadata": {
      "needs_background": "light"
     },
     "output_type": "display_data"
    }
   ],
   "source": [
    "import matplotlib.pyplot as plt\n",
    "list_y=[]\n",
    "for i in range(-5,6):\n",
    "    x=i\n",
    "    y=-8*x**2+3*x+17\n",
    "    list_y.append(y)\n",
    "print(list_y)\n",
    "plt.plot(range(-5,6),[0,0,0,0,0,0,0,0,0,0,0])\n",
    "plt.plot(range(-5,6),list_y)"
   ]
  },
  {
   "cell_type": "markdown",
   "id": "226daa5c",
   "metadata": {},
   "source": [
    "## 5 Вычислить вершину"
   ]
  },
  {
   "cell_type": "code",
   "execution_count": 15,
   "id": "d31a5c75",
   "metadata": {},
   "outputs": [
    {
     "name": "stdout",
     "output_type": "stream",
     "text": [
      "3/16 553/32\n"
     ]
    }
   ],
   "source": [
    "corni=solve(fd)\n",
    "top=corni[0]\n",
    "x=top\n",
    "y=-8*x**2+3*x+17\n",
    "print(top,y)"
   ]
  },
  {
   "cell_type": "markdown",
   "id": "8068f657",
   "metadata": {},
   "source": [
    "## 6. Определить промежутки, на котором f > 0"
   ]
  },
  {
   "cell_type": "code",
   "execution_count": 16,
   "id": "e86df87b",
   "metadata": {},
   "outputs": [
    {
     "data": {
      "text/latex": [
       "$\\displaystyle x < \\frac{3}{16} + \\frac{\\sqrt{553}}{16} \\wedge \\frac{3}{16} - \\frac{\\sqrt{553}}{16} < x$"
      ],
      "text/plain": [
       "(x < 3/16 + sqrt(553)/16) & (3/16 - sqrt(553)/16 < x)"
      ]
     },
     "execution_count": 16,
     "metadata": {},
     "output_type": "execute_result"
    }
   ],
   "source": [
    "solve(0<func)"
   ]
  },
  {
   "cell_type": "markdown",
   "id": "f013179e",
   "metadata": {},
   "source": [
    "## 7. Определить промежутки, на котором f < 0"
   ]
  },
  {
   "cell_type": "code",
   "execution_count": 17,
   "id": "6ea58254",
   "metadata": {},
   "outputs": [
    {
     "data": {
      "text/latex": [
       "$\\displaystyle \\left(-\\infty < x \\wedge x < \\frac{3}{16} - \\frac{\\sqrt{553}}{16}\\right) \\vee \\left(x < \\infty \\wedge \\frac{3}{16} + \\frac{\\sqrt{553}}{16} < x\\right)$"
      ],
      "text/plain": [
       "((-oo < x) & (x < 3/16 - sqrt(553)/16)) | ((x < oo) & (3/16 + sqrt(553)/16 < x))"
      ]
     },
     "execution_count": 17,
     "metadata": {},
     "output_type": "execute_result"
    }
   ],
   "source": [
    "solve(func<0)"
   ]
  },
  {
   "cell_type": "code",
   "execution_count": null,
   "id": "1613544d",
   "metadata": {},
   "outputs": [],
   "source": []
  }
 ],
 "metadata": {
  "kernelspec": {
   "display_name": "Python 3 (ipykernel)",
   "language": "python",
   "name": "python3"
  },
  "language_info": {
   "codemirror_mode": {
    "name": "ipython",
    "version": 3
   },
   "file_extension": ".py",
   "mimetype": "text/x-python",
   "name": "python",
   "nbconvert_exporter": "python",
   "pygments_lexer": "ipython3",
   "version": "3.9.12"
  }
 },
 "nbformat": 4,
 "nbformat_minor": 5
}
